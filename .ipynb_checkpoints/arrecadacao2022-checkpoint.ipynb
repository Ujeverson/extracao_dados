{
 "cells": [
  {
   "cell_type": "code",
   "execution_count": 46,
   "id": "9acc386f",
   "metadata": {},
   "outputs": [],
   "source": [
    "#importando as bibliotecas\n",
    "import numpy as np\n",
    "import matplotlib.pyplot as plt\n",
    "%matplotlib inline\n",
    "import pandas as pd\n",
    "import seaborn as sb\n",
    "%config InlineBackend.figure_format ='retina'   # Plots de alta resolução\n",
    "from pandas_datareader import data\n",
    "import datetime as dt\n",
    "from datetime import timedelta\n",
    "import math"
   ]
  },
  {
   "cell_type": "code",
   "execution_count": 2,
   "id": "0d756f5f",
   "metadata": {},
   "outputs": [],
   "source": [
    "import warnings\n",
    "warnings.filterwarnings('ignore');"
   ]
  },
  {
   "cell_type": "code",
   "execution_count": 3,
   "id": "1ce704de",
   "metadata": {},
   "outputs": [],
   "source": [
    "#importando os dados e criando o dataframe até agosto 2022\n",
    "jan22 = 'https://dadosabertos.go.gov.br/dataset/d579601c-6971-4684-a89b-ebce7a1fa994/resource/16549843-e49f-4773-a2e5-c45fcebcd6af/download/arr_202201.csv'\n",
    "fev22 = 'https://dadosabertos.go.gov.br/dataset/d579601c-6971-4684-a89b-ebce7a1fa994/resource/a604e278-2933-40f7-a13a-ad47514073f7/download/arr_202202.csv'\n",
    "mar22 = 'https://dadosabertos.go.gov.br/dataset/d579601c-6971-4684-a89b-ebce7a1fa994/resource/0d01f72f-8b37-4058-b26b-13b8e16621b7/download/arr_202203.csv'\n",
    "abr22 = 'https://dadosabertos.go.gov.br/dataset/d579601c-6971-4684-a89b-ebce7a1fa994/resource/86289c18-3664-4e29-bb61-3136f3dc3375/download/arr_202204.csv'\n",
    "mai22 = 'https://dadosabertos.go.gov.br/dataset/d579601c-6971-4684-a89b-ebce7a1fa994/resource/35614c13-ae81-427e-8950-69656cab140f/download/arr_202205.csv'\n",
    "jun22 = 'https://dadosabertos.go.gov.br/dataset/d579601c-6971-4684-a89b-ebce7a1fa994/resource/d03034e5-5358-450b-9458-5ea19a8691ce/download/arr_202206.csv'\n",
    "jul22 = 'https://dadosabertos.go.gov.br/dataset/d579601c-6971-4684-a89b-ebce7a1fa994/resource/bba8e11b-7e39-446c-afb9-5f4796512ac1/download/arr_202207.csv'\n",
    "ago22 = 'https://dadosabertos.go.gov.br/dataset/d579601c-6971-4684-a89b-ebce7a1fa994/resource/df79dea2-acc8-46d1-8cc1-004b21b939af/download/arr_202208.csv'"
   ]
  },
  {
   "cell_type": "code",
   "execution_count": 4,
   "id": "5d013ba7",
   "metadata": {},
   "outputs": [],
   "source": [
    "def criardf(mes):\n",
    "    df = pd.read_csv(mes, sep=';')\n",
    "    \n",
    "    #TRANSFORMANDO OS DADOS DE ANO_MES EM STRING\n",
    "    df['ANO_MES'] = df['ANO_MES'].astype(str)\n",
    "    \n",
    "    #TRANSFORMANDO OS DADOS DE VALR_TOTAL TROCANDO ',' POR '.'\n",
    "    df['VALR_TOTAL']= df['VALR_TOTAL'].replace(',','.',regex=True)\n",
    "    \n",
    "    #TRANSFORMANDO OS DADOS DE VALR_TOTAL PARA NUMÉRICO\n",
    "    df['VALR_TOTAL'] = df['VALR_TOTAL'].astype(float)\n",
    "    \n",
    "    #CRIANDO A COLUNA VALR_MILHOES PARA VISUALIZAR MELHOR OS DADOS\n",
    "    df['VALR_MILHOES'] = df.apply(lambda row: round(row.VALR_TOTAL * 0.0000001,2), axis = 1)\n",
    "    \n",
    "    df['ANO_MES'] = df['ANO_MES'].map({'202201':'2022-01',\n",
    "                                     '202202':'2022-02',\n",
    "                                     '202203':'2022-03',\n",
    "                                      '202204':'2022-04',\n",
    "                                      '202205':'2022-05',\n",
    "                                      '202206':'2022-06',\n",
    "                                      '202207':'2022-07',\n",
    "                                      '202208':'2022-08'},\n",
    "                             na_action=None)\n",
    "    #dateparse= lambda dates:pd.datetime.strptime(dates,'%Y-%m-%d')\n",
    "#bolsa=pd.read_csv('^BVSP.csv',parse_dates=['Date'],index_col='Date',date_parser=dateparse)\n",
    "    \n",
    "    return df"
   ]
  },
  {
   "cell_type": "code",
   "execution_count": 5,
   "id": "414e9464",
   "metadata": {},
   "outputs": [
    {
     "data": {
      "text/html": [
       "<div>\n",
       "<style scoped>\n",
       "    .dataframe tbody tr th:only-of-type {\n",
       "        vertical-align: middle;\n",
       "    }\n",
       "\n",
       "    .dataframe tbody tr th {\n",
       "        vertical-align: top;\n",
       "    }\n",
       "\n",
       "    .dataframe thead th {\n",
       "        text-align: right;\n",
       "    }\n",
       "</style>\n",
       "<table border=\"1\" class=\"dataframe\">\n",
       "  <thead>\n",
       "    <tr style=\"text-align: right;\">\n",
       "      <th></th>\n",
       "      <th>ANO_MES</th>\n",
       "      <th>TIPO_RECEITA</th>\n",
       "      <th>VALR_TOTAL</th>\n",
       "      <th>VALR_MILHOES</th>\n",
       "    </tr>\n",
       "  </thead>\n",
       "  <tbody>\n",
       "    <tr>\n",
       "      <th>0</th>\n",
       "      <td>2022-01</td>\n",
       "      <td>ICMS</td>\n",
       "      <td>2.070650e+09</td>\n",
       "      <td>2070.65</td>\n",
       "    </tr>\n",
       "    <tr>\n",
       "      <th>1</th>\n",
       "      <td>2022-01</td>\n",
       "      <td>IPVA</td>\n",
       "      <td>1.121957e+08</td>\n",
       "      <td>112.20</td>\n",
       "    </tr>\n",
       "    <tr>\n",
       "      <th>2</th>\n",
       "      <td>2022-01</td>\n",
       "      <td>ITCD</td>\n",
       "      <td>5.651558e+07</td>\n",
       "      <td>56.52</td>\n",
       "    </tr>\n",
       "    <tr>\n",
       "      <th>3</th>\n",
       "      <td>2022-01</td>\n",
       "      <td>OUTRAS RECEITAS</td>\n",
       "      <td>8.782751e+07</td>\n",
       "      <td>87.83</td>\n",
       "    </tr>\n",
       "    <tr>\n",
       "      <th>4</th>\n",
       "      <td>2022-01</td>\n",
       "      <td>OUTROS TRIBUTOS</td>\n",
       "      <td>7.470574e+07</td>\n",
       "      <td>74.71</td>\n",
       "    </tr>\n",
       "  </tbody>\n",
       "</table>\n",
       "</div>"
      ],
      "text/plain": [
       "   ANO_MES     TIPO_RECEITA    VALR_TOTAL  VALR_MILHOES\n",
       "0  2022-01             ICMS  2.070650e+09       2070.65\n",
       "1  2022-01             IPVA  1.121957e+08        112.20\n",
       "2  2022-01             ITCD  5.651558e+07         56.52\n",
       "3  2022-01  OUTRAS RECEITAS  8.782751e+07         87.83\n",
       "4  2022-01  OUTROS TRIBUTOS  7.470574e+07         74.71"
      ]
     },
     "execution_count": 5,
     "metadata": {},
     "output_type": "execute_result"
    }
   ],
   "source": [
    "#concatenando os dfs\n",
    "temp22 = pd.concat([criardf(jan22), criardf(fev22),criardf(mar22),\n",
    "                    criardf(abr22),criardf(mai22),criardf(jun22),\n",
    "                    criardf(jul22),criardf(ago22)], ignore_index = True)\n",
    "temp22.head()"
   ]
  },
  {
   "cell_type": "code",
   "execution_count": 6,
   "id": "21455b4b",
   "metadata": {},
   "outputs": [
    {
     "data": {
      "text/html": [
       "<div>\n",
       "<style scoped>\n",
       "    .dataframe tbody tr th:only-of-type {\n",
       "        vertical-align: middle;\n",
       "    }\n",
       "\n",
       "    .dataframe tbody tr th {\n",
       "        vertical-align: top;\n",
       "    }\n",
       "\n",
       "    .dataframe thead th {\n",
       "        text-align: right;\n",
       "    }\n",
       "</style>\n",
       "<table border=\"1\" class=\"dataframe\">\n",
       "  <thead>\n",
       "    <tr style=\"text-align: right;\">\n",
       "      <th></th>\n",
       "      <th>TIPO_RECEITA</th>\n",
       "      <th>VALR_TOTAL</th>\n",
       "      <th>VALR_MILHOES</th>\n",
       "    </tr>\n",
       "    <tr>\n",
       "      <th>ANO_MES</th>\n",
       "      <th></th>\n",
       "      <th></th>\n",
       "      <th></th>\n",
       "    </tr>\n",
       "  </thead>\n",
       "  <tbody>\n",
       "    <tr>\n",
       "      <th>2022-01-01</th>\n",
       "      <td>ICMS</td>\n",
       "      <td>2.070650e+09</td>\n",
       "      <td>2070.65</td>\n",
       "    </tr>\n",
       "    <tr>\n",
       "      <th>2022-01-01</th>\n",
       "      <td>IPVA</td>\n",
       "      <td>1.121957e+08</td>\n",
       "      <td>112.20</td>\n",
       "    </tr>\n",
       "    <tr>\n",
       "      <th>2022-01-01</th>\n",
       "      <td>ITCD</td>\n",
       "      <td>5.651558e+07</td>\n",
       "      <td>56.52</td>\n",
       "    </tr>\n",
       "    <tr>\n",
       "      <th>2022-01-01</th>\n",
       "      <td>OUTRAS RECEITAS</td>\n",
       "      <td>8.782751e+07</td>\n",
       "      <td>87.83</td>\n",
       "    </tr>\n",
       "    <tr>\n",
       "      <th>2022-01-01</th>\n",
       "      <td>OUTROS TRIBUTOS</td>\n",
       "      <td>7.470574e+07</td>\n",
       "      <td>74.71</td>\n",
       "    </tr>\n",
       "  </tbody>\n",
       "</table>\n",
       "</div>"
      ],
      "text/plain": [
       "               TIPO_RECEITA    VALR_TOTAL  VALR_MILHOES\n",
       "ANO_MES                                                \n",
       "2022-01-01             ICMS  2.070650e+09       2070.65\n",
       "2022-01-01             IPVA  1.121957e+08        112.20\n",
       "2022-01-01             ITCD  5.651558e+07         56.52\n",
       "2022-01-01  OUTRAS RECEITAS  8.782751e+07         87.83\n",
       "2022-01-01  OUTROS TRIBUTOS  7.470574e+07         74.71"
      ]
     },
     "execution_count": 6,
     "metadata": {},
     "output_type": "execute_result"
    }
   ],
   "source": [
    "# Transformar coluna \"ANO_MES\" em datetime\n",
    "temp22['ANO_MES'] = pd.to_datetime(temp22['ANO_MES'])\n",
    "\n",
    "# Utilizar tal coluna como o índice das linhas do DataFrame\n",
    "temp22 = temp22.set_index('ANO_MES')\n",
    "\n",
    "# Mostrar 5 primeiras linhas para verificar se funcionou\n",
    "temp22.head()"
   ]
  },
  {
   "cell_type": "code",
   "execution_count": 7,
   "id": "9b526da7",
   "metadata": {},
   "outputs": [
    {
     "data": {
      "text/html": [
       "<div>\n",
       "<style scoped>\n",
       "    .dataframe tbody tr th:only-of-type {\n",
       "        vertical-align: middle;\n",
       "    }\n",
       "\n",
       "    .dataframe tbody tr th {\n",
       "        vertical-align: top;\n",
       "    }\n",
       "\n",
       "    .dataframe thead th {\n",
       "        text-align: right;\n",
       "    }\n",
       "</style>\n",
       "<table border=\"1\" class=\"dataframe\">\n",
       "  <thead>\n",
       "    <tr style=\"text-align: right;\">\n",
       "      <th></th>\n",
       "      <th>VALR_TOTAL</th>\n",
       "      <th>VALR_MILHOES</th>\n",
       "    </tr>\n",
       "  </thead>\n",
       "  <tbody>\n",
       "    <tr>\n",
       "      <th>count</th>\n",
       "      <td>4.800000e+01</td>\n",
       "      <td>48.000000</td>\n",
       "    </tr>\n",
       "    <tr>\n",
       "      <th>mean</th>\n",
       "      <td>4.210963e+08</td>\n",
       "      <td>421.097292</td>\n",
       "    </tr>\n",
       "    <tr>\n",
       "      <th>std</th>\n",
       "      <td>7.503695e+08</td>\n",
       "      <td>750.369838</td>\n",
       "    </tr>\n",
       "    <tr>\n",
       "      <th>min</th>\n",
       "      <td>4.282048e+07</td>\n",
       "      <td>42.820000</td>\n",
       "    </tr>\n",
       "    <tr>\n",
       "      <th>25%</th>\n",
       "      <td>6.457061e+07</td>\n",
       "      <td>64.567500</td>\n",
       "    </tr>\n",
       "    <tr>\n",
       "      <th>50%</th>\n",
       "      <td>8.858094e+07</td>\n",
       "      <td>88.580000</td>\n",
       "    </tr>\n",
       "    <tr>\n",
       "      <th>75%</th>\n",
       "      <td>1.439871e+08</td>\n",
       "      <td>143.985000</td>\n",
       "    </tr>\n",
       "    <tr>\n",
       "      <th>max</th>\n",
       "      <td>2.192192e+09</td>\n",
       "      <td>2192.190000</td>\n",
       "    </tr>\n",
       "  </tbody>\n",
       "</table>\n",
       "</div>"
      ],
      "text/plain": [
       "         VALR_TOTAL  VALR_MILHOES\n",
       "count  4.800000e+01     48.000000\n",
       "mean   4.210963e+08    421.097292\n",
       "std    7.503695e+08    750.369838\n",
       "min    4.282048e+07     42.820000\n",
       "25%    6.457061e+07     64.567500\n",
       "50%    8.858094e+07     88.580000\n",
       "75%    1.439871e+08    143.985000\n",
       "max    2.192192e+09   2192.190000"
      ]
     },
     "execution_count": 7,
     "metadata": {},
     "output_type": "execute_result"
    }
   ],
   "source": [
    "# Descrever as propriedades estatísticas mais importantes\n",
    "temp22.describe()"
   ]
  },
  {
   "cell_type": "code",
   "execution_count": 44,
   "id": "a7dec5c7",
   "metadata": {
    "scrolled": true
   },
   "outputs": [
    {
     "data": {
      "text/plain": [
       "<AxesSubplot:xlabel='ANO_MES'>"
      ]
     },
     "execution_count": 44,
     "metadata": {},
     "output_type": "execute_result"
    },
    {
     "data": {
      "image/png": "[encoded data removed]",
      "text/plain": [
       "<Figure size 432x288 with 1 Axes>"
      ]
     },
     "metadata": {
      "image/png": {
       "height": 270,
       "width": 375
      },
      "needs_background": "light"
     },
     "output_type": "display_data"
    }
   ],
   "source": [
    "temp22[['TIPO_RECEITA','VALR_TOTAL']].plot()"
   ]
  },
  {
   "cell_type": "code",
   "execution_count": 75,
   "id": "9374cd53",
   "metadata": {},
   "outputs": [],
   "source": [
    "def lorenz(b): #f(x)=a^x-1 (1->100%)\n",
    "    a = (103)**(1/20)\n",
    "    x = b/100\n",
    "    renda = a**x - 1\n",
    "    print(round(renda*100,2),\"%\")"
   ]
  },
  {
   "cell_type": "code",
   "execution_count": 76,
   "id": "b7bcb634",
   "metadata": {},
   "outputs": [
    {
     "name": "stdout",
     "output_type": "stream",
     "text": [
      "2.34 %\n"
     ]
    }
   ],
   "source": [
    "lorenz(10)"
   ]
  },
  {
   "cell_type": "code",
   "execution_count": 78,
   "id": "ebe4d172",
   "metadata": {},
   "outputs": [
    {
     "data": {
      "text/plain": [
       "1.0707963267948966"
      ]
     },
     "execution_count": 78,
     "metadata": {},
     "output_type": "execute_result"
    }
   ],
   "source": [
    "g = (np.pi - 1)/2\n",
    "g"
   ]
  },
  {
   "cell_type": "code",
   "execution_count": null,
   "id": "3bf73ca8",
   "metadata": {},
   "outputs": [],
   "source": []
  }
 ],
 "metadata": {
  "kernelspec": {
   "display_name": "Python 3 (ipykernel)",
   "language": "python",
   "name": "python3"
  },
  "language_info": {
   "codemirror_mode": {
    "name": "ipython",
    "version": 3
   },
   "file_extension": ".py",
   "mimetype": "text/x-python",
   "name": "python",
   "nbconvert_exporter": "python",
   "pygments_lexer": "ipython3",
   "version": "3.10.5"
  }
 },
 "nbformat": 4,
 "nbformat_minor": 5
}
